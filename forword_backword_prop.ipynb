{
  "nbformat": 4,
  "nbformat_minor": 0,
  "metadata": {
    "colab": {
      "provenance": []
    },
    "kernelspec": {
      "name": "python3",
      "display_name": "Python 3"
    },
    "language_info": {
      "name": "python"
    }
  },
  "cells": [
    {
      "cell_type": "code",
      "execution_count": 56,
      "metadata": {
        "id": "cY6fXrz2EeoA"
      },
      "outputs": [],
      "source": [
        "import numpy as np\n",
        "\n",
        "class NeuralNetwork:\n",
        "    def __init__(self, layer_sizes):\n",
        "        self.layer_sizes = layer_sizes\n",
        "        self.weights = [np.random.randn(y, x) for x, y in zip(layer_sizes[:-1], layer_sizes[1:])]\n",
        "        self.biases = [np.random.randn(y, 1) for y in layer_sizes[1:]]\n",
        "\n",
        "    def sigmoid(self, z):\n",
        "        return 1 / (1 + np.exp(-z))\n",
        "\n",
        "    def forward_propagation(self, X):\n",
        "        activation = X\n",
        "        for w, b in zip(self.weights, self.biases):\n",
        "            z = np.dot(w, activation) + b\n",
        "            activation = self.sigmoid(z)\n",
        "        return activation\n",
        "\n",
        "    def sigmoid_derivative(self, z):\n",
        "        return self.sigmoid(z) * (1 - self.sigmoid(z))\n",
        "\n",
        "    def backpropagation(self, X, y):\n",
        "        m = X.shape[1]\n",
        "        delta_weights = [np.zeros(w.shape) for w in self.weights]\n",
        "        delta_biases = [np.zeros(b.shape) for b in self.biases]\n",
        "        # Forward propagation\n",
        "        activation = X\n",
        "        activations = [activation]\n",
        "        zs = []\n",
        "        for w, b in zip(self.weights, self.biases):\n",
        "            z = np.dot(w, activation) + b\n",
        "            zs.append(z)\n",
        "            activation = self.sigmoid(z)\n",
        "            activations.append(activation)\n",
        "\n",
        "        # Backpropagation\n",
        "        delta = (activations[-1] - y) * self.sigmoid_derivative(zs[-1])\n",
        "        delta_weights[-1] = np.dot(delta, activations[-2].T)\n",
        "        delta_biases[-1] = np.sum(delta, axis=1, keepdims=True)\n",
        "        for l in range(2, len(self.layer_sizes)):\n",
        "            delta = np.dot(self.weights[-l+1].T, delta) * self.sigmoid_derivative(zs[-l])\n",
        "            delta_weights[-l] = np.dot(delta, activations[-l-1].T)\n",
        "            delta_biases[-l] = np.sum(delta, axis=1, keepdims=True)\n",
        "\n",
        "        return delta_weights, delta_biases\n",
        "\n",
        "    def train(self, X, y, num_epochs, learning_rate):\n",
        "        m = X.shape[1]\n",
        "        for epoch in range(num_epochs):\n",
        "            delta_weights, delta_biases = self.backpropagation(X, y)\n",
        "            self.weights = [w - (learning_rate / m) * dw for w, dw in zip(self.weights, delta_weights)]\n",
        "            self.biases = [b - (learning_rate / m) * db for b, db in zip(self.biases, delta_biases)]\n",
        "\n",
        "    def predict(self, X):\n",
        "        return self.forward_propagation(X)\n"
      ]
    },
    {
      "cell_type": "code",
      "source": [
        "if __name__ == '__main__':\n",
        "    layer_sizes = [2, 4, 1]  # Input layer: 2 neurons, Hidden layer: 4 neurons, Output layer: 1 neuron\n",
        "    nn = NeuralNetwork(layer_sizes)\n",
        "\n",
        "    # Training data\n",
        "    X = np.array([[0, 0], [0, 1], [1, 0], [1, 1]]).T\n",
        "    y = np.array([[0, 1, 1, 0]])\n",
        "\n",
        "    # Train the neural network\n",
        "    num_epochs = 10000\n",
        "    learning_rate = 0.1\n",
        "    nn.train(X, y, num_epochs, learning_rate)\n",
        "    \n",
        "    predictions = nn.predict(X)\n",
        "    print(\"Predictions:\")\n",
        "    print(predictions)\n"
      ],
      "metadata": {
        "colab": {
          "base_uri": "https://localhost:8080/"
        },
        "id": "RAG73mtyI8GH",
        "outputId": "908e3079-41d0-4cb2-b6b3-e1565a853eb1"
      },
      "execution_count": 57,
      "outputs": [
        {
          "output_type": "stream",
          "name": "stdout",
          "text": [
            "Predictions:\n",
            "[[0.23317429 0.62300796 0.69296428 0.49537369]]\n"
          ]
        }
      ]
    },
    {
      "cell_type": "code",
      "source": [
        "X"
      ],
      "metadata": {
        "colab": {
          "base_uri": "https://localhost:8080/"
        },
        "id": "gAzFxqW9LqaR",
        "outputId": "b29fc7fa-fba2-44b8-f3e8-b93bb4ede50d"
      },
      "execution_count": 58,
      "outputs": [
        {
          "output_type": "execute_result",
          "data": {
            "text/plain": [
              "array([[0, 0, 1, 1],\n",
              "       [0, 1, 0, 1]])"
            ]
          },
          "metadata": {},
          "execution_count": 58
        }
      ]
    },
    {
      "cell_type": "code",
      "source": [
        "X[0]"
      ],
      "metadata": {
        "colab": {
          "base_uri": "https://localhost:8080/"
        },
        "id": "QctWXfDeLIAf",
        "outputId": "9ec9caba-35f4-4d59-a7d6-1ea24363bf6e"
      },
      "execution_count": 59,
      "outputs": [
        {
          "output_type": "execute_result",
          "data": {
            "text/plain": [
              "array([0, 0, 1, 1])"
            ]
          },
          "metadata": {},
          "execution_count": 59
        }
      ]
    },
    {
      "cell_type": "code",
      "source": [
        "y[0]"
      ],
      "metadata": {
        "colab": {
          "base_uri": "https://localhost:8080/"
        },
        "id": "bOY1nOUpLrjL",
        "outputId": "55fe835d-9218-4f0f-d5e8-ad0a93eb2c00"
      },
      "execution_count": 60,
      "outputs": [
        {
          "output_type": "execute_result",
          "data": {
            "text/plain": [
              "array([0, 1, 1, 0])"
            ]
          },
          "metadata": {},
          "execution_count": 60
        }
      ]
    },
    {
      "cell_type": "code",
      "source": [
        "x = [(x, y) for x, y in zip(X[:,0], X[:,1])]\n",
        "x"
      ],
      "metadata": {
        "colab": {
          "base_uri": "https://localhost:8080/"
        },
        "id": "C869Hb-TKRfG",
        "outputId": "7a6d11a9-73cf-4a0f-bbc8-6ee375e8a3a6"
      },
      "execution_count": 61,
      "outputs": [
        {
          "output_type": "execute_result",
          "data": {
            "text/plain": [
              "[(0, 0), (0, 1)]"
            ]
          },
          "metadata": {},
          "execution_count": 61
        }
      ]
    },
    {
      "cell_type": "code",
      "source": [
        "x0 = [i for i in X[0] if i == 0]\n",
        "x1 = [i for i in X[1] if i == 1]"
      ],
      "metadata": {
        "id": "VM6R-ueRM343"
      },
      "execution_count": 62,
      "outputs": []
    },
    {
      "cell_type": "code",
      "source": [
        "import matplotlib.pyplot as plt\n",
        "plt.scatter(x0[0], x0[1], label=\"Feature 1\")\n",
        "plt.scatter(x1[0], x1[1], label=\"Feature 2\")\n",
        "plt.xlabel(\"Feature 1\")\n",
        "plt.xlabel(\"Feature 2\")\n",
        "plt.legend()\n",
        "plt.show()"
      ],
      "metadata": {
        "colab": {
          "base_uri": "https://localhost:8080/",
          "height": 449
        },
        "id": "9laHU2xxJFhy",
        "outputId": "cc52f54f-f8a1-417c-93bf-7a495e2aadae"
      },
      "execution_count": 63,
      "outputs": [
        {
          "output_type": "display_data",
          "data": {
            "text/plain": [
              "<Figure size 640x480 with 1 Axes>"
            ],
            "image/png": "[encoded data removed]"
          },
          "metadata": {}
        }
      ]
    },
    {
      "cell_type": "code",
      "source": [
        "final_preditions = [1 if predict >= 0.5 else 0 for predict in predictions[0]]"
      ],
      "metadata": {
        "id": "iFxl4Zn_FY_1"
      },
      "execution_count": 64,
      "outputs": []
    },
    {
      "cell_type": "code",
      "source": [
        "final_preditions"
      ],
      "metadata": {
        "colab": {
          "base_uri": "https://localhost:8080/"
        },
        "id": "aBFkQjpkH_ou",
        "outputId": "311fbc0b-c2c2-4354-fad1-ed2f6c7737ac"
      },
      "execution_count": 65,
      "outputs": [
        {
          "output_type": "execute_result",
          "data": {
            "text/plain": [
              "[0, 1, 1, 0]"
            ]
          },
          "metadata": {},
          "execution_count": 65
        }
      ]
    },
    {
      "cell_type": "code",
      "source": [],
      "metadata": {
        "id": "n7eVhghLN3A0"
      },
      "execution_count": null,
      "outputs": []
    }
  ]
}