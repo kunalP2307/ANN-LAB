{
  "nbformat": 4,
  "nbformat_minor": 0,
  "metadata": {
    "colab": {
      "provenance": []
    },
    "kernelspec": {
      "name": "python3",
      "display_name": "Python 3"
    },
    "language_info": {
      "name": "python"
    }
  },
  "cells": [
    {
      "cell_type": "code",
      "execution_count": 6,
      "metadata": {
        "colab": {
          "base_uri": "https://localhost:8080/"
        },
        "id": "j7It2pEen_8f",
        "outputId": "f60d063b-fbb3-4b64-937e-4d1927ac10e5"
      },
      "outputs": [
        {
          "output_type": "stream",
          "name": "stdout",
          "text": [
            "v [ 1  1 -1 -1]\n",
            "op [[ 1  1 -1 -1]\n",
            " [ 1  1 -1 -1]\n",
            " [-1 -1  1  1]\n",
            " [-1 -1  1  1]]\n",
            "v [ 1 -1  1 -1]\n",
            "op [[ 1 -1  1 -1]\n",
            " [-1  1 -1  1]\n",
            " [ 1 -1  1 -1]\n",
            " [-1  1 -1  1]]\n",
            "v [-1  1 -1  1]\n",
            "op [[ 1 -1  1 -1]\n",
            " [-1  1 -1  1]\n",
            " [ 1 -1  1 -1]\n",
            " [-1  1 -1  1]]\n",
            "v [-1 -1  1  1]\n",
            "op [[ 1  1 -1 -1]\n",
            " [ 1  1 -1 -1]\n",
            " [-1 -1  1  1]\n",
            " [-1 -1  1  1]]\n",
            "Input Vector: [ 1  1 -1 -1]\n",
            "Output Vector: [ 1.  1. -1. -1.]\n",
            "-------------\n",
            "Input Vector: [ 1 -1 -1 -1]\n",
            "Output Vector: [ 1.  1.  1. -1.]\n",
            "-------------\n",
            "Input Vector: [ 1 -1  1  1]\n",
            "Output Vector: [-1. -1.  1. -1.]\n",
            "-------------\n"
          ]
        }
      ],
      "source": [
        "import numpy as np\n",
        "\n",
        "class HopfieldNetwork:\n",
        "    def __init__(self, vector_size):\n",
        "        self.vector_size = vector_size\n",
        "        self.weights = np.zeros((vector_size, vector_size))\n",
        "\n",
        "    def train(self, training_data):\n",
        "        num_vectors = len(training_data)\n",
        "        for vector in training_data:\n",
        "            print('v', vector)\n",
        "            print('op', np.outer(vector, vector))\n",
        "            self.weights += np.outer(vector, vector) / num_vectors\n",
        "        np.fill_diagonal(self.weights, 0)\n",
        "\n",
        "    def predict(self, input_vector, num_iterations=5):\n",
        "        output_vector = np.copy(input_vector)\n",
        "        for _ in range(num_iterations):\n",
        "            output_vector = np.sign(np.dot(self.weights, output_vector))\n",
        "        return output_vector\n",
        "\n",
        "# Define the training data\n",
        "training_data = np.array([[1, 1, -1, -1],\n",
        "                          [1, -1, 1, -1],\n",
        "                          [-1, 1, -1, 1],\n",
        "                          [-1, -1, 1, 1]])\n",
        "\n",
        "# Create an instance of the HopfieldNetwork class\n",
        "hopfield_net = HopfieldNetwork(vector_size=4)\n",
        "\n",
        "# Train the Hopfield network with the training data\n",
        "hopfield_net.train(training_data)\n",
        "\n",
        "# Test the Hopfield network by retrieving the stored vectors\n",
        "test_data = np.array([[1, 1, -1, -1],\n",
        "                      [1, -1, -1, -1],\n",
        "                      [1, -1, 1, 1]])\n",
        "\n",
        "for input_vector in test_data:\n",
        "    output_vector = hopfield_net.predict(input_vector)\n",
        "    print(\"Input Vector:\", input_vector)\n",
        "    print(\"Output Vector:\", output_vector)\n",
        "    print(\"-------------\")\n"
      ]
    },
    {
      "cell_type": "code",
      "source": [],
      "metadata": {
        "id": "ygHY8QlvpYNO"
      },
      "execution_count": null,
      "outputs": []
    }
  ]
}